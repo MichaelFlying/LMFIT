{
 "cells": [
  {
   "cell_type": "markdown",
   "id": "41d644ac-eafa-441f-9deb-a44b1a274574",
   "metadata": {},
   "source": [
    "# Solution to Exercise 2"
   ]
  },
  {
   "cell_type": "code",
   "execution_count": 3,
   "id": "a7a12c7a-7584-41de-9e95-3a1b53a828e2",
   "metadata": {},
   "outputs": [
    {
     "data": {
      "image/png": "[encoded data removed]",
      "text/plain": [
       "<Figure size 432x288 with 1 Axes>"
      ]
     },
     "metadata": {
      "needs_background": "light"
     },
     "output_type": "display_data"
    },
    {
     "name": "stdout",
     "output_type": "stream",
     "text": [
      "[[Fit Statistics]]\n",
      "    # fitting method   = leastsq\n",
      "    # function evals   = 19\n",
      "    # data points      = 18\n",
      "    # variables        = 2\n",
      "    chi-square         = 20.9731858\n",
      "    reduced chi-square = 1.31082411\n",
      "    Akaike info crit   = 6.75171398\n",
      "    Bayesian info crit = 8.53245750\n",
      "[[Variables]]\n",
      "    frequency:  0.97869072 +/- 0.01698279 (1.74%) (init = 1)\n",
      "    phase:      0.62066226 +/- 0.06485177 (10.45%) (init = 0)\n"
     ]
    },
    {
     "data": {
      "image/png": "[encoded data removed]",
      "text/plain": [
       "<Figure size 432x288 with 1 Axes>"
      ]
     },
     "metadata": {
      "needs_background": "light"
     },
     "output_type": "display_data"
    }
   ],
   "source": [
    "# -*- coding: utf-8 -*-\n",
    "\"\"\"\n",
    "Use LMFIT package performing a minimised chi-squared fit to find the\n",
    "frequency and phase of a sine curve.\n",
    "\n",
    "This is the solution to exercise 2.\n",
    "\n",
    "Tangdi Luan 07/NOV/2023\n",
    "\n",
    "\"\"\"\n",
    "import numpy as np\n",
    "import matplotlib.pyplot as plt\n",
    "from lmfit import minimize, Parameters, fit_report\n",
    "\n",
    "\n",
    "params = Parameters()\n",
    "params.add(\"frequency\", value = 1.)\n",
    "params.add(\"phase\", value = 0.)\n",
    "\n",
    "\n",
    "def sin_function(angle,frequency, phase):\n",
    "    \"\"\"\n",
    "    computes sin(frequency * angle + phase) for angle in degrees and phase in radians.\n",
    "    \n",
    "    frequency (float)\n",
    "    angle (float)\n",
    "    phase(float)\n",
    "    \"\"\"\n",
    "    rad_angle = np.deg2rad(angle)\n",
    "    return np.sin(frequency*rad_angle + phase)\n",
    "\n",
    "\n",
    "def get_residual(params, x_values, function_data, uncertainties):\n",
    "    a_coefficient = params[\"frequency\"].value\n",
    "    b_coefficient = params[\"phase\"].value\n",
    "    prediction = sin_function(x_values, a_coefficient, b_coefficient)\n",
    "    return (function_data - prediction)/uncertainties\n",
    "\n",
    "\n",
    "if __name__==\"__main__\":\n",
    "    # Get data ----------------------------------------------------------------------------------------------------------\n",
    "    filename = 'sin_data.txt'\n",
    "    DATA = np.loadtxt(filename, delimiter='\\t', skiprows=1)\n",
    "    DATA = np.transpose(DATA)\n",
    "        \n",
    "    # Plot raw data -----------------------------------------------------------------------------------------------------\n",
    "    RAW_DATA_FIGURE = plt.figure()\n",
    "    RAW_DATA_PLOT = RAW_DATA_FIGURE.add_subplot(111)\n",
    "\n",
    "    RAW_DATA_PLOT.set_title('Raw data')\n",
    "    RAW_DATA_PLOT.set_xlabel('x')\n",
    "    RAW_DATA_PLOT.set_ylabel('f(x)')\n",
    "\n",
    "\n",
    "    RAW_DATA_PLOT.errorbar(DATA[0], DATA[1], yerr=DATA[2], fmt='o', color='C0')\n",
    "    plt.show()\n",
    "\n",
    "\n",
    "    # Using LMFIT package to find best value for coefficient by trying everything ---------------------------------------\n",
    "    out = minimize(get_residual, params, args=(DATA[0], DATA[1], DATA[2]))\n",
    "    print(fit_report(out))\n",
    "    FITTED_PARAMETERS = [out.params[\"frequency\"].value, out.params[\"phase\"].value]\n",
    "\n",
    "\n",
    "    # Visually compare result with data ---------------------------------------------------------------------------------\n",
    "\n",
    "    FITTED_DATA_FIGURE = plt.figure()\n",
    "    FITTED_DATA_PLOT = FITTED_DATA_FIGURE.add_subplot(111)\n",
    "\n",
    "    FITTED_DATA_PLOT.set_title('Data against fit', fontsize=14)\n",
    "    FITTED_DATA_PLOT.set_xlabel('x')\n",
    "    FITTED_DATA_PLOT.set_ylabel('f(x)')\n",
    "\n",
    "    X_VALUES = np.linspace(DATA[0],DATA[-1],50)\n",
    "    FITTED_DATA_PLOT.plot(X_VALUES, sin_function(X_VALUES, FITTED_PARAMETERS[0], FITTED_PARAMETERS[1]), color='C1')\n",
    "    FITTED_DATA_PLOT.errorbar(DATA[0], DATA[1], yerr=DATA[2], fmt='o', color='C0')\n",
    "    plt.show()"
   ]
  }
 ],
 "metadata": {
  "kernelspec": {
   "display_name": "Python 3 (ipykernel)",
   "language": "python",
   "name": "python3"
  },
  "language_info": {
   "codemirror_mode": {
    "name": "ipython",
    "version": 3
   },
   "file_extension": ".py",
   "mimetype": "text/x-python",
   "name": "python",
   "nbconvert_exporter": "python",
   "pygments_lexer": "ipython3",
   "version": "3.10.5"
  }
 },
 "nbformat": 4,
 "nbformat_minor": 5
}
